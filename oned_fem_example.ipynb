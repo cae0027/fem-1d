{
 "cells": [
  {
   "cell_type": "markdown",
   "metadata": {},
   "source": [
    "## Functions Required to Solve Simple Elliptic Equation with Dirichlet Conditions Using Finite Element Method\n",
    "In this module, we will solve the equation\n",
    "\n",
    "\\begin{align}\n",
    "-\\frac{d}{dx} & \\left(q(x) \\frac{d u(x)}{dx} \\right)  = f(x) \\qquad\n",
    "\\Longleftrightarrow \\qquad         &&\n",
    "-\\frac{d q(x)}{dx} \\frac{d u(x)}{dx} - q(x)\\frac{d^2 u(x)}{d^2x} = f(x)\\\\\n",
    "& u(a) = u0,  && \\qquad \\qquad u(a) = u0, \\\\\n",
    "& u(b) = u1  && \\qquad \\qquad u(b) = u1\n",
    "\\end{align}\n",
    "\n",
    "Since this article will try to explain the functions and method of finite element solution for this problem, we will occassionally throw in diagrams where necessary so we'll embed images using markdown embedding syntax"
   ]
  },
  {
   "cell_type": "markdown",
   "metadata": {},
   "source": [
    "The first step in solving ODE/PDE using finite element method is to formulate the _weak form_ of the problem. For the elliptic equation above, we do this as follows:  \n",
    "For a _test_ function $v \\in H^1_0(\\Omega) = \\{ v \\in L^2(\\Omega) : v'\\in L(\\Omega), v|_{\\partial \\Omega} = 0 \\}$ where $\\Omega = [a,b]$,\n",
    "\\begin{align}\n",
    "\\int_{\\Omega}-\\frac{d}{dx} \\left(q(x) \\frac{d u(x)}{dx} \\right)v(x) dx  &= \\int_{\\Omega} f(x)v(x) dx\\\\\n",
    "-q(x)u'(x)v(x) |_{\\partial \\Omega} + \\int_{\\Omega} q(x)u'(x)v'(x)dx &=  \\int_{\\Omega} f(x)v(x) dx\\\\\n",
    " \\int_{\\Omega} q(x)u'(x)v'(x)dx &=  \\int_{\\Omega} f(x)v(x) dx\\\\\n",
    "\\end{align}"
   ]
  },
  {
   "cell_type": "markdown",
   "metadata": {},
   "source": [
    "$u$ which solves the given differential equation is infinite dimensional. However, we approximate $u$ with a  $u^h$ where \n",
    "$$\n",
    "u^h(x) = \\sum_{i=1}^n c_i \\phi_i(x)\n",
    "$$\n",
    "and \n",
    "$\n",
    "\\phi_1, \\phi_2, \\cdots, \\phi_n\n",
    "$\n",
    "are finite number of basis functons which could be _linear, quadratic, cubic, etc_ over the compact domain $\\Omega$."
   ]
  },
  {
   "cell_type": "markdown",
   "metadata": {},
   "source": [
    "Plugging $u^h$ into the weak form and also approximating $u$ by $u^h = \\phi_i$ for $i = 1,2,\\cdots,n$, we get"
   ]
  },
  {
   "cell_type": "markdown",
   "metadata": {},
   "source": [
    "\\begin{align}\n",
    " \\int_{\\Omega} q(x)u'(x)v'(x)dx &=  \\int_{\\Omega} f(x)v(x) dx\\\\\n",
    " \\int_{\\Omega} q(x)\\left( \\sum_{j=1}^n c_j \\phi_j'(x) \\right) \\phi_i'(x)dx &=  \\int_{\\Omega} f(x)\\phi_i(x) dx, \\qquad i = 1,2,3,\\cdots,n\\\\\n",
    " \\sum_{j=1}^n \\left(\\int_{\\Omega} q(x)\\phi_j'(x) \\phi_i'(x)dx \\right)c_j  &=  \\int_{\\Omega} f(x)\\phi_i(x) dx, \\qquad i = 1,2,3,\\cdots,n\\\\\n",
    "\\end{align}\n",
    "\n",
    "The integral\n",
    "$\n",
    "A_{ij} = \\int_{\\Omega} q(x)\\phi_j'(x) \\phi_i'(x)dx\n",
    "$\n",
    "is called the bilinear form."
   ]
  },
  {
   "cell_type": "markdown",
   "metadata": {},
   "source": [
    "If we write out the last equation explicitly for each $i$, we would get an $n\\times n$ system of equations in $c_j$'s. Below, we have $6$ python functions that computes the bilinear form and the RHS over each element:  \n"
   ]
  },
  {
   "cell_type": "markdown",
   "metadata": {},
   "source": [
    "oned_mesh = generates computational nodes on $\\Omega$ and their corresponding indices  \n",
    "oned_gauss = stores Gaussian quadrature nodes (on $[-1,1]$, the reference element) and weights for approximating the bilinear form  \n",
    "oned_shape = evaluates $q(x)$ (called kernel in the code), $\\phi_j$ (and it's 1st and 2nd derivatives p_x, p_xx) on the Gaussian nodes and on each of the the physical elements   \n",
    "oned_linear = computes the right hand side integral for each $i = 1, 2, \\cdots, n$.  \n",
    "oned_bilinear = computes the bilinear form $\\int_{\\Omega} q(x)\\phi_j'(x) \\phi_i'(x)dx$ for each $i,j$\n"
   ]
  },
  {
   "cell_type": "markdown",
   "metadata": {},
   "source": [
    "### oned_mesh"
   ]
  },
  {
   "cell_type": "markdown",
   "metadata": {},
   "source": [
    "The function oned_mesh generates finite elements nodes and the connectivity matrix e_conn which is an $n$ by $m$ indices matrix where $n$ is the number of elements and $m$ is the number of nodes per elements. For linear bases functions $m = 2$, for quadratic $m = 3$, for cubic $m = 4$ and it continues in that manner"
   ]
  },
  {
   "cell_type": "code",
   "execution_count": 1,
   "metadata": {},
   "outputs": [],
   "source": [
    "#!/usr/bin/env python3\n",
    "\"\"\"\n",
    "Module for solving one dimensional finite element problems\n",
    "\"\"\"\n",
    "\n",
    "import numpy as np\n",
    "\n",
    "def oned_mesh(x_min, x_max, n_elements, element_type):\n",
    "    \"\"\"\n",
    "    Description: Construct a one dimensional finite element mesh. \n",
    "\n",
    "    Usage: x, e_conn = oned_fem_mesh(x_min, x_max, n_elements, element_type)\n",
    "\n",
    "    Inputs:\n",
    "\n",
    "        x_min: double, left interval endpoint\n",
    "\n",
    "        x_max: double, right interval endpoint\n",
    "\n",
    "        n_elements: int, number of elements\n",
    "\n",
    "        element_type: str, polynomial order 'linear', 'quadratic', or 'cubic'\n",
    "\n",
    "\n",
    "    Outputs: \n",
    "\n",
    "        x: double, vector of finite element nodes\n",
    "\n",
    "        e_conn: int, (n_elements, n_dof) connectivity matrix whose ith row\n",
    "           contains the indices of the nodes x(i) contained in the ith element\n",
    "\n",
    "    Last modified: \n",
    "\n",
    "        02/05/2021, Hans-Werner van Wyk\n",
    "\n",
    "    \"\"\"\n",
    "    if element_type == 'linear':\n",
    "        # Define mesh nodes\n",
    "        x = np.linspace(x_min,x_max,n_elements+1);\n",
    "        \n",
    "        # Define connectivity matrix\n",
    "        e_conn = (np.arange(n_elements),np.arange(1,n_elements+1))\n",
    "        e_conn = np.stack(e_conn,axis=1)\n",
    "        \n",
    "    elif element_type == 'quadratic':\n",
    "        # Define the mesh nodes\n",
    "        x = np.linspace(x_min, x_max, 2*n_elements + 1)\n",
    "        \n",
    "        # Define the connectivity matrix\n",
    "        e_conn = (np.arange(0,2*n_elements-1,2),\n",
    "                  np.arange(1,2*n_elements,2),\n",
    "                  np.arange(2,2*n_elements+1,2))\n",
    "        e_conn = np.stack(e_conn,axis=1)\n",
    "        \n",
    "    elif element_type == 'cubic':\n",
    "        # Define the mesh nodes\n",
    "        x = np.linspace(x_min,x_max,3*n_elements+1)\n",
    "        \n",
    "        # Define the connectivity matrix\n",
    "        e_conn = (np.arange(0,3*n_elements-2,3),\n",
    "                  np.arange(1,3*n_elements-1,3),\n",
    "                  np.arange(2,3*n_elements,3),\n",
    "                  np.arange(3,3*n_elements+1,3))\n",
    "        e_conn = np.stack(e_conn,axis=1)\n",
    "     \n",
    "    else: \n",
    "        # Error\n",
    "        raise Exception('Use only \"linear\", \"quadratic\", '+\\\n",
    "                        'or \"cubic\" for element_type')\n",
    "    \n",
    "    return x,e_conn\n",
    "    "
   ]
  },
  {
   "cell_type": "markdown",
   "metadata": {},
   "source": [
    "Suppose $a = -1$ and $b = 1$ and number of elements is $10$ (i.e., there are $11$ nodes). Then"
   ]
  },
  {
   "cell_type": "code",
   "execution_count": 2,
   "metadata": {},
   "outputs": [],
   "source": [
    "x_min = -1\n",
    "x_max = 1\n",
    "n_elements = 5"
   ]
  },
  {
   "cell_type": "code",
   "execution_count": 3,
   "metadata": {},
   "outputs": [],
   "source": [
    "#\n",
    "# With linear bases elements\n",
    "#\n",
    "element_type = 'linear'\n",
    "x, e_conn = oned_mesh(x_min, x_max, n_elements, element_type)"
   ]
  },
  {
   "cell_type": "code",
   "execution_count": 4,
   "metadata": {},
   "outputs": [
    {
     "data": {
      "text/plain": [
       "array([-1. , -0.6, -0.2,  0.2,  0.6,  1. ])"
      ]
     },
     "execution_count": 4,
     "metadata": {},
     "output_type": "execute_result"
    }
   ],
   "source": [
    "x"
   ]
  },
  {
   "cell_type": "code",
   "execution_count": 5,
   "metadata": {},
   "outputs": [
    {
     "data": {
      "text/plain": [
       "array([[0, 1],\n",
       "       [1, 2],\n",
       "       [2, 3],\n",
       "       [3, 4],\n",
       "       [4, 5]])"
      ]
     },
     "execution_count": 5,
     "metadata": {},
     "output_type": "execute_result"
    }
   ],
   "source": [
    "e_conn"
   ]
  },
  {
   "cell_type": "markdown",
   "metadata": {},
   "source": [
    "These outputs can be visualized as"
   ]
  },
  {
   "cell_type": "markdown",
   "metadata": {},
   "source": [
    "![Linear Nodes and Elements](./nodes_and_elements1.png)"
   ]
  },
  {
   "cell_type": "code",
   "execution_count": 6,
   "metadata": {},
   "outputs": [],
   "source": [
    "#\n",
    "# With quadratic bases elements\n",
    "#\n",
    "element_type = 'quadratic'\n",
    "x, e_conn = oned_mesh(x_min, x_max, n_elements, element_type)"
   ]
  },
  {
   "cell_type": "code",
   "execution_count": 7,
   "metadata": {},
   "outputs": [
    {
     "data": {
      "text/plain": [
       "array([-1. , -0.8, -0.6, -0.4, -0.2,  0. ,  0.2,  0.4,  0.6,  0.8,  1. ])"
      ]
     },
     "execution_count": 7,
     "metadata": {},
     "output_type": "execute_result"
    }
   ],
   "source": [
    "x"
   ]
  },
  {
   "cell_type": "code",
   "execution_count": 8,
   "metadata": {},
   "outputs": [
    {
     "data": {
      "text/plain": [
       "array([[ 0,  1,  2],\n",
       "       [ 2,  3,  4],\n",
       "       [ 4,  5,  6],\n",
       "       [ 6,  7,  8],\n",
       "       [ 8,  9, 10]])"
      ]
     },
     "execution_count": 8,
     "metadata": {},
     "output_type": "execute_result"
    }
   ],
   "source": [
    "e_conn"
   ]
  },
  {
   "cell_type": "markdown",
   "metadata": {},
   "source": [
    "Notice that we still have $10$ elements but the number of nodes have changed to accommodate for the number of points needed to compute each basis function over an element. Two points are needed to compute a linear function, three points are need to compute quadratic function, etc.\n",
    "Again, we visualize as"
   ]
  },
  {
   "cell_type": "markdown",
   "metadata": {},
   "source": [
    "![Quadratic Nodes and Elements](./nodes_and_elements2.png)\n",
    "\n",
    "Cubic bases functions follow similarly"
   ]
  },
  {
   "cell_type": "code",
   "execution_count": 9,
   "metadata": {},
   "outputs": [],
   "source": [
    "#\n",
    "# With cubic bases elements\n",
    "#\n",
    "element_type = 'cubic'\n",
    "x, e_conn = oned_mesh(x_min, x_max, n_elements, element_type)"
   ]
  },
  {
   "cell_type": "code",
   "execution_count": 10,
   "metadata": {},
   "outputs": [
    {
     "data": {
      "text/plain": [
       "array([-1.        , -0.86666667, -0.73333333, -0.6       , -0.46666667,\n",
       "       -0.33333333, -0.2       , -0.06666667,  0.06666667,  0.2       ,\n",
       "        0.33333333,  0.46666667,  0.6       ,  0.73333333,  0.86666667,\n",
       "        1.        ])"
      ]
     },
     "execution_count": 10,
     "metadata": {},
     "output_type": "execute_result"
    }
   ],
   "source": [
    "x"
   ]
  },
  {
   "cell_type": "code",
   "execution_count": 11,
   "metadata": {},
   "outputs": [
    {
     "data": {
      "text/plain": [
       "array([[ 0,  1,  2,  3],\n",
       "       [ 3,  4,  5,  6],\n",
       "       [ 6,  7,  8,  9],\n",
       "       [ 9, 10, 11, 12],\n",
       "       [12, 13, 14, 15]])"
      ]
     },
     "execution_count": 11,
     "metadata": {},
     "output_type": "execute_result"
    }
   ],
   "source": [
    "e_conn"
   ]
  },
  {
   "cell_type": "markdown",
   "metadata": {},
   "source": [
    "Notice that in each case ('linear', 'quadratic', 'cubic'),  \n",
    "total # of nodes = (n_dof * n_elements) + 1  \n",
    "where n_dof is the degree of freedom (i.e., # of points required to compute a basis function over each element: n_dof = 2 for linear, 3 for quadratic and 4 for cubic bases) and n_elements is the number of elements.  \n",
    "We could draw a numbered line representation for cubic elements just like we did for linear and quadratic, but hopefully, we understand the concept clearly from those of linear and quadratic as shown previously."
   ]
  },
  {
   "cell_type": "markdown",
   "metadata": {},
   "source": [
    "### oned_gauss"
   ]
  },
  {
   "cell_type": "markdown",
   "metadata": {},
   "source": [
    "oned_gauss function takes 'rule' as input and returns a vector of Gaussian points (r) in $[-1,1]$ and a vector of Gaussian weights (w) in $[-1,1]$. So\n",
    "$$\n",
    "\\int_{-1}^1 f(x)dx \\approx w_0 f(r_0) + w_1 f(r_1) + w_2 f(r_2) + \\cdots + w_{n-1} f(r_{n-1})\n",
    "$$\n",
    "assuming we have have chosen rule $=n$. In this case, the integral would be exact (accurate) up to degree $2n-1$ polynomial approximation of $f$.  \n",
    "Gaussian points and weights are pre-computed and oned_gauss simply records them for call and use as can be clearly seen from the function definition.\n",
    "\n",
    "A complete and illustrative example on mathematics of the Gaussian Quadrature Rule and how the Gaussian points and weights are derived can be found here\n",
    "[Gaussian Quadrature Rule](http://webhome.auburn.edu/~cae0027/resources/notes/gauss-quadrature-rule.pdf)\n",
    ".\n"
   ]
  },
  {
   "cell_type": "code",
   "execution_count": 12,
   "metadata": {},
   "outputs": [],
   "source": [
    "# Reset element type to quadratic for illustration purposes\n",
    "#\n",
    "element_type = 'quadratic'\n",
    "x, e_conn = oned_mesh(x_min, x_max, n_elements, element_type)"
   ]
  },
  {
   "cell_type": "code",
   "execution_count": 13,
   "metadata": {},
   "outputs": [],
   "source": [
    "def oned_gauss(rule):\n",
    "    \"\"\"\n",
    "    Calculate Gauss integration points on (-1,1)\n",
    "\n",
    "    \n",
    "    Inputs: \n",
    "    \n",
    "        rule: int, number of Gauss points (between 1 and 11). The precision of\n",
    "            the Gauss rule is 2*rule - 1\n",
    "            \n",
    "            Int[-1,1] f(x) dx ~= sum_{i=1}^rule wi*f(ri)\n",
    "        \n",
    "    Outputs:\n",
    "    \n",
    "        r: double, (rule,) vector of Gauss points in (-1,1]\n",
    "        \n",
    "        w: double, (rule,) vector of Gauss weights\n",
    "    \"\"\"\n",
    "\n",
    "    r = np.zeros(rule)\n",
    "    w = np.zeros(rule)\n",
    "\n",
    "    if rule == 1:      # up to order 1 polynomials exact\n",
    "        r[0] = 0\n",
    "        w[0] = 2\n",
    "        \n",
    "    elif rule == 2:   # up to order 3 polynomials exact\n",
    "        r[0] =-1.0 / np.sqrt(3.0);\n",
    "        r[1] =-r[0];\n",
    "        w[0] = 1.0;\n",
    "        w[1] = 1.0;\n",
    "        \n",
    "    elif rule == 3:  # up to order 5 polynomials exact\n",
    "        r[0] =-np.sqrt(3.0/5.0);\n",
    "        r[1] = 0.0;\n",
    "        r[2] =-r[0];\n",
    "        w[0] = 5.0 / 9.0;\n",
    "        w[1] = 8.0 / 9.0;\n",
    "        w[2] = w[0];\n",
    "        \n",
    "    elif rule == 4:  # up to order 7 polynomials exact\n",
    "        r[0] =-np.sqrt((3.0+2.0*np.sqrt(6.0/5.0))/7.0);\n",
    "        r[1] =-np.sqrt((3.0-2.0*np.sqrt(6.0/5.0))/7.0);\n",
    "        r[2] =-r[1];\n",
    "        r[3] =-r[0];\n",
    "        w[0] = 0.5 - 1.0 / ( 6.0 * np.sqrt(6.0/5.0) );\n",
    "        w[1] = 0.5 + 1.0 / ( 6.0 * np.sqrt(6.0/5.0) );\n",
    "        w[2] = w[1];\n",
    "        w[3] = w[0];\n",
    "        \n",
    "    elif rule == 5:  # up to order 9 polynomials exact\n",
    "        r[0] =-np.sqrt(5.0+4.0*np.sqrt(5.0/14.0)) / 3.0;\n",
    "        r[1] =-np.sqrt(5.0-4.0*np.sqrt(5.0/14.0)) / 3.0;\n",
    "        r[2] = 0.0;\n",
    "        r[3] =-r[1];\n",
    "        r[4] =-r[0];\n",
    "        w[0] = 161.0/450.0-13.0/(180.*np.sqrt(5.0/14.0));\n",
    "        w[1] = 161.0/450.0+13.0/(180.*np.sqrt(5.0/14.0));\n",
    "        w[2] = 128.0/225.0;\n",
    "        w[3] = w[1];\n",
    "        w[4] = w[0];\n",
    "        \n",
    "    elif rule == 6:\n",
    "        r[0] = -0.2386191860831969;\n",
    "        r[1] = -0.6612093864662645;\n",
    "        r[2] = -0.9324695142031521;\n",
    "        r[3] = - r[0];\n",
    "        r[4] = - r[1];\n",
    "        r[5] = - r[2];\n",
    "        w[0] = 0.4679139345726910;\n",
    "        w[1] = 0.3607615730481386;\n",
    "        w[2] = 0.1713244923791704;\n",
    "        w[3] = w[0];\n",
    "        w[4] = w[1];\n",
    "        w[5] = w[2];\n",
    "        \n",
    "    elif rule == 7:\n",
    "        r[0] = -0.9491079123427585;\n",
    "        r[1] = -0.7415311855993945;\n",
    "        r[2] = -0.4058451513773972;\n",
    "        r[3] =  0.0000000000000000;\n",
    "        r[4] = - r[2];\n",
    "        r[5] = - r[1];\n",
    "        r[6] = - r[0];\n",
    "        w[0] = 0.1294849661688697;\n",
    "        w[1] = 0.2797053914892766;\n",
    "        w[2] = 0.3818300505051189;\n",
    "        w[3] = 0.4179591836734694;\n",
    "        w[4] = w[2];\n",
    "        w[5] = w[1];\n",
    "        w[6] = w[0];\n",
    "        \n",
    "    elif rule == 8:\n",
    "        r[0] = -0.9602898564975363;\n",
    "        r[1] = -0.7966664774136267;\n",
    "        r[2] = -0.5255324099163290;\n",
    "        r[3] = -0.1834346424956498;\n",
    "        r[4] = - r[3];\n",
    "        r[5] = - r[2];\n",
    "        r[6] = - r[1];\n",
    "        r[7] = - r[0];\n",
    "        w[0] = 0.1012285362903763;\n",
    "        w[1] = 0.2223810344533745;\n",
    "        w[2] = 0.3137066458778873;\n",
    "        w[3] = 0.3626837833783620;\n",
    "        w[4] = w[3];\n",
    "        w[5] = w[2];\n",
    "        w[6] = w[1];\n",
    "        w[7] = w[0];\n",
    "\n",
    "    elif rule == 9:\n",
    "        r[0] = -0.9681602395076261;\n",
    "        r[1] = -0.8360311073266358;\n",
    "        r[2] = -0.6133714327005904;\n",
    "        r[3] = -0.3242534234038089;\n",
    "        r[4] =  0.0000000000000000;\n",
    "        r[5] = - r[3];\n",
    "        r[6] = - r[2];\n",
    "        r[7] = - r[1];\n",
    "        r[8] = - r[0];\n",
    "        w[0] = 0.0812743883615744;\n",
    "        w[1] = 0.1806481606948574;\n",
    "        w[2] = 0.2606106964029354;\n",
    "        w[3] = 0.3123470770400029;\n",
    "        w[4] = 0.3302393550012598;\n",
    "        w[5] = w[3];\n",
    "        w[6] = w[2];\n",
    "        w[7] = w[1];\n",
    "        w[8] = w[0];\n",
    "      \n",
    "    elif rule == 10:\n",
    "        r[0] = -0.9739065285171717;\n",
    "        r[1] = -0.8650633666889845;\n",
    "        r[2] = -0.6794095682990244;\n",
    "        r[3] = -0.4333953941292472;\n",
    "        r[4] = -0.1488743389816312;\n",
    "        r[5] = - r[4];\n",
    "        r[6] = - r[3];\n",
    "        r[7] = - r[2];\n",
    "        r[8] = - r[1];\n",
    "        r[9] = - r[0];\n",
    "        w[0] = 0.0666713443086881;\n",
    "        w[1] = 0.1494513491505806;\n",
    "        w[2] = 0.2190863625159820;\n",
    "        w[3] = 0.2692667193099963;\n",
    "        w[4] = 0.2955242247147529;\n",
    "        w[5] = w[4];\n",
    "        w[6] = w[3];\n",
    "        w[7] = w[2];\n",
    "        w[8] = w[1];\n",
    "        w[9] = w[0];\n",
    "\n",
    "    elif rule == 11:\n",
    "        r[0] = -0.9782286581460570;\n",
    "        r[1] = -0.8870625997680953;\n",
    "        r[2] = -0.7301520055740494;\n",
    "        r[3] = -0.5190961292068118;\n",
    "        r[4] = -0.2695431559523450;\n",
    "        r[5] =  0.0000000000000000;\n",
    "        r[6] = - r[4];\n",
    "        r[7] = - r[3];\n",
    "        r[8] = - r[2];\n",
    "        r[9] = - r[1];\n",
    "        r[10] = - r[0];\n",
    "        w[0] = 0.0556685671161737;\n",
    "        w[1] = 0.1255803694649046;\n",
    "        w[2] = 0.1862902109277343;\n",
    "        w[3] = 0.2331937645919905;\n",
    "        w[4] = 0.2628045445102467;\n",
    "        w[5] = 0.2729250867779006;\n",
    "        w[6] = w[4];\n",
    "        w[7] = w[3];\n",
    "        w[8] = w[2];\n",
    "        w[9] = w[1];\n",
    "        w[10] = w[0];\n",
    "\n",
    "    else:\n",
    "        raise Exception('Quadrature rule not supported')\n",
    "        #Return computed quantities\n",
    "        \n",
    "    return r,w"
   ]
  },
  {
   "cell_type": "code",
   "execution_count": 14,
   "metadata": {},
   "outputs": [],
   "source": [
    "r,w = oned_gauss(5)"
   ]
  },
  {
   "cell_type": "code",
   "execution_count": 15,
   "metadata": {},
   "outputs": [
    {
     "data": {
      "text/plain": [
       "array([-0.90617985, -0.53846931,  0.        ,  0.53846931,  0.90617985])"
      ]
     },
     "execution_count": 15,
     "metadata": {},
     "output_type": "execute_result"
    }
   ],
   "source": [
    "r"
   ]
  },
  {
   "cell_type": "markdown",
   "metadata": {},
   "source": [
    "$r$ is computed on $[-1,1]$."
   ]
  },
  {
   "cell_type": "code",
   "execution_count": 16,
   "metadata": {},
   "outputs": [
    {
     "data": {
      "text/plain": [
       "array([0.23692689, 0.47862867, 0.56888889, 0.47862867, 0.23692689])"
      ]
     },
     "execution_count": 16,
     "metadata": {},
     "output_type": "execute_result"
    }
   ],
   "source": [
    "w"
   ]
  },
  {
   "cell_type": "markdown",
   "metadata": {},
   "source": [
    "$w$ is computed on $[-1,1]$."
   ]
  },
  {
   "cell_type": "markdown",
   "metadata": {},
   "source": [
    "###  oned_shape"
   ]
  },
  {
   "cell_type": "markdown",
   "metadata": {},
   "source": [
    "To apply the Gaussian quadrature rule to the integral \n",
    "$\n",
    "\\int_a^b f(x)dx\n",
    "$,\n",
    "we make the following transformation\n",
    "$$ \n",
    "x = \\frac{b-a}{2}r + \\frac{b+a}{2} \n",
    "$$\n",
    "which is gotten by finding the parametric line between $(-1,a)$ and $(1,b)$. Thus,\n",
    "\n",
    "\\begin{align}\n",
    "\\int_{a}^b f(x)dx &\\approx \\frac{b-a}{2} \\int_{-1}^1 f \\left(\\frac{b-a}{2}r + \\frac{b+a}{2} \\right)dr\\\\\n",
    "                  &= \\frac{b-a}{2} \\left(w_0 f(x_0) + w_1 f(x_1) + w_2 f(x_2) + \\cdots + w_{n-1} f(x_{n-1}) \\right)\n",
    "\\end{align}\n",
    "where \n",
    "$\n",
    "x_i = \\frac{b-a}{2}r_i + \\frac{b+a}{2} \n",
    "$\n",
    "for $i = 0,1,2,\\cdots,n-1$. Again, we have assumed rule $= n$ and for this, the integral is exact up to a polynomial of degree $2n-1$ approximation of $f$. i.e.,\n",
    "$$\n",
    "f(x) \\approx a_0 + a_1x + a_2x^2 + \\cdots + a_{2n-1}x^{2n-1}\n",
    "$$"
   ]
  },
  {
   "cell_type": "markdown",
   "metadata": {},
   "source": [
    "$\\frac{b-a}{2} =$ Jacobian of the transformation from $x$ to $r$  \n",
    "$w = (w_0, w_1,\\cdots, w_{2n-1}) =$ Gauss weights on the reference element $[-1,1]$   \n",
    "$w = (\\frac{b-a}{2}w_0, \\frac{b-a}{2}w_1,\\cdots, \\frac{b-a}{2}w_{2n-1}) =$ Gauss weights on the physical element. In oned_shape, $w\\_g := w$.     \n",
    "$r = (r_0, r_1,\\cdots, r_{2n-1}) =$ Gauss points/nodes on the reference element $[-1,1]$  \n",
    "$x = (x_0, x_1,\\cdots, x_{2n-1}) =$ Gauss points/nodes on the physical element. In oned_shape, $x\\_g := x$\n",
    "\n",
    "\n",
    "In the function oned_shape, $x$ is a vector of nodal values indexed by each row of"
   ]
  },
  {
   "cell_type": "code",
   "execution_count": 17,
   "metadata": {},
   "outputs": [
    {
     "data": {
      "text/plain": [
       "array([[ 0,  1,  2],\n",
       "       [ 2,  3,  4],\n",
       "       [ 4,  5,  6],\n",
       "       [ 6,  7,  8],\n",
       "       [ 8,  9, 10]])"
      ]
     },
     "execution_count": 17,
     "metadata": {},
     "output_type": "execute_result"
    }
   ],
   "source": [
    "e_conn"
   ]
  },
  {
   "cell_type": "markdown",
   "metadata": {},
   "source": [
    "assuming element_type is 'cubic'. So the call of oned_shape must loop over the total number of elements to get each $x$ which now represents .\n"
   ]
  },
  {
   "cell_type": "code",
   "execution_count": 18,
   "metadata": {},
   "outputs": [],
   "source": [
    "def oned_shape(x,r,w):\n",
    "    \"\"\"\n",
    "    computes test functions and derivatives for a Lagrange C0 element given\n",
    "    element coordinates and Gauss points. (assumes all nodes are uniformly \n",
    "    distributed in the element).\n",
    "\n",
    "\n",
    "    Usage:    x_g,w_g,phi,p_x,p_xx = oned_shape(x,r,w)\n",
    "\n",
    "    Inputs:     \n",
    "    \n",
    "        x: double, coordinates of the element nodes\n",
    "                 \n",
    "        r: double, coordinates of Gauss points in (-1,1)\n",
    "        \n",
    "        w: double, Gauss weights associated with r\n",
    "        \n",
    "        \n",
    "    Outputs:\n",
    "\n",
    "        x_g: double, coordinates of Gauss points in the element\n",
    "                 \n",
    "        w_g: double, Gauss weights scaled by the element Jacobian\n",
    "                 \n",
    "        phi: double, value of element shape functions at x_g\n",
    "        \n",
    "        p_x: double, first spatial derivatives of phi\n",
    "        \n",
    "        p_xx: double, second spatial derivatives of phi\n",
    "    \n",
    "    \n",
    "    Modified: \n",
    "    \n",
    "        02/05/2021, Hans-Werner van Wyk \n",
    "    \"\"\"\n",
    "    n_dof = len(x)  # number of dofs\n",
    "    n_g = len(r)  # number of Gaussian quadrature points\n",
    "    \n",
    "    if n_dof==2:\n",
    "        # Transform coordinates for linear elements\n",
    "        c0 = ( x[-1]-x[0] )/2\n",
    "        c1 = ( x[-1]+x[0] )/2\n",
    "    \n",
    "        # Gaussian nodes\n",
    "        x_g = c0*r + c1\n",
    "\n",
    "        # Evaluate basis function at Gauss points\n",
    "        phi = np.empty((n_g,n_dof))\n",
    "        phi[:,1] = ( 1+r )/2\n",
    "        phi[:,0] = ( 1-r )/2\n",
    "        \n",
    "        # Evaluate first derivative at Gauss points\n",
    "        p_x = np.empty((n_g,n_dof))\n",
    "        p_x[:,1] = 0.5*np.ones(n_g)/c0\n",
    "        p_x[:,0] =-p_x[:,1]\n",
    "\n",
    "        # Jacobian\n",
    "        djac = c0\n",
    "    \n",
    "        # Compute physical weights\n",
    "        w_g = djac*w\n",
    "\n",
    "        # Second derivative \n",
    "        p_xx = np.zeros((n_g,n_dof))\n",
    "    \n",
    "    elif n_dof==3:\n",
    "        \n",
    "        # Transform coordinates for quadratic elements\n",
    "        c0 = ( x[-1]-x[0] )/2\n",
    "        c1 = ( x[-1]+x[0] )/2\n",
    "        \n",
    "        # Physical Gauss nodes\n",
    "        x_g = c0*r + c1\n",
    "\n",
    "        # defined backwards to help Matlab create the proper sized array\n",
    "        phi = np.empty((n_g,n_dof))\n",
    "        phi[:,2] = .5*r*( r+1 )\n",
    "        phi[:,1] =-( r+1 )*( r-1 )\n",
    "        phi[:,0] = .5*r*( r-1 )\n",
    "\n",
    "        # First derivative \n",
    "        p_x = np.empty((n_g,n_dof))\n",
    "        p_x[:,2] = ( r+.5 )/c0\n",
    "        p_x[:,1] =-2*r/c0\n",
    "        p_x[:,0] = ( r-.5 )/c0\n",
    "\n",
    "        # Jacobian \n",
    "        djac = c0\n",
    "\n",
    "        # Gaussian weight on physical element\n",
    "        w_g = djac*w\n",
    "        \n",
    "        # Second derivative\n",
    "        p_xx = np.empty((n_g,n_dof))\n",
    "        p_xx[:,2] = np.ones(n_g)/c0**2\n",
    "        p_xx[:,1] =-2*p_xx[:,2]\n",
    "        p_xx[:,0] = p_xx[:,2]\n",
    "\n",
    "    elif n_dof==4:\n",
    "        # Transform coordinates for (nonconforming) cubic elements\n",
    "        c0 = ( x[-1]-x[0] )/2\n",
    "        c1 = ( x[-1]+x[0] )/2\n",
    "\n",
    "        x_g = c0*r + c1\n",
    "\n",
    "        r2  = r*r\n",
    "        r3  = r*r2\n",
    "\n",
    "        # defined backwards to help Matlab create the proper sized array\n",
    "        phi = np.zeros((n_g,n_dof))\n",
    "        phi[:,3] =  9*( r3+r2-r/9-1/9 )/16\n",
    "        phi[:,2] =-27*( r3+r2/3-r-1/3 )/16\n",
    "        phi[:,1] = 27*( r3-r2/3-r+1/3 )/16\n",
    "        phi[:,0] =- 9*( r3-r2-r/9+1/9 )/16\n",
    "\n",
    "        # Derivative on reference element\n",
    "        p_r = np.zeros((n_g,n_dof))\n",
    "        p_r[:,3] =  9*( 3*r2+2*r-1/9 )/16\n",
    "        p_r[:,2] =-27*( 3*r2+2*r/3-1 )/16\n",
    "        p_r[:,1] = 27*( 3*r2-2*r/3-1 )/16\n",
    "        p_r[:,0] =- 9*( 3*r2-2*r-1/9 )/16\n",
    "        \n",
    "        # Second derivative on reference element\n",
    "        p_rr = np.zeros((n_g,n_dof))\n",
    "        p_rr[:,3] =  9*( 6*r+2   )/16\n",
    "        p_rr[:,2] =-27*( 6*r+2/3 )/16\n",
    "        p_rr[:,1] = 27*( 6*r-2/3 )/16\n",
    "        p_rr[:,0] =- 9*( 6*r-2   )/16\n",
    "\n",
    "        # Jacobian \n",
    "        dxdr = p_r.dot(x)\n",
    "        drdx = 1/dxdr\n",
    "        \n",
    "        # Quadrature weights on physical element\n",
    "        w_g = dxdr*w\n",
    "        \n",
    "        # Derivative on physical element\n",
    "        p_x = np.zeros((n_g,n_dof))\n",
    "        p_x[:,3] = p_r[:,3]*drdx\n",
    "        p_x[:,2] = p_r[:,2]*drdx\n",
    "        p_x[:,1] = p_r[:,1]*drdx\n",
    "        p_x[:,0] = p_r[:,0]*drdx\n",
    "        \n",
    "        # Second derivative on physical element\n",
    "        p_xx = np.zeros((n_g,n_dof))     \n",
    "        p_xx[:,3] = p_rr[:,3]*drdx**2\n",
    "        p_xx[:,2] = p_rr[:,2]*drdx**2\n",
    "        p_xx[:,1] = p_rr[:,1]*drdx**2\n",
    "        p_xx[:,0] = p_rr[:,0]*drdx**2\n",
    "    else:\n",
    "        raise Exception('Elements higher than cubic not currently supported')\n",
    "    \n",
    "    # Return computed quantities\n",
    "    return x_g, w_g, phi, p_x, p_xx    "
   ]
  },
  {
   "cell_type": "markdown",
   "metadata": {},
   "source": [
    "Since oned_shape is computed over each element, we print the function returns over the last element for the sake of illutsration"
   ]
  },
  {
   "cell_type": "code",
   "execution_count": 19,
   "metadata": {},
   "outputs": [],
   "source": [
    "#\n",
    "# Recompute mesh for this illustration\n",
    "#\n",
    "x, e_conn = oned_mesh(x_min, x_max, n_elements, element_type)"
   ]
  },
  {
   "cell_type": "code",
   "execution_count": 20,
   "metadata": {},
   "outputs": [],
   "source": [
    "#\n",
    "# Ilustration of how the function is used\n",
    "for i in range(n_elements):\n",
    "    y = x[e_conn[i]]\n",
    "    x_g, w_g, phi, p_x, p_xx  = oned_shape(y,r,w)"
   ]
  },
  {
   "cell_type": "code",
   "execution_count": 21,
   "metadata": {},
   "outputs": [
    {
     "data": {
      "text/plain": [
       "array([0.61876403, 0.69230614, 0.8       , 0.90769386, 0.98123597])"
      ]
     },
     "execution_count": 21,
     "metadata": {},
     "output_type": "execute_result"
    }
   ],
   "source": [
    "x_g"
   ]
  },
  {
   "cell_type": "code",
   "execution_count": 22,
   "metadata": {},
   "outputs": [
    {
     "data": {
      "text/plain": [
       "array([0.04738538, 0.09572573, 0.11377778, 0.09572573, 0.04738538])"
      ]
     },
     "execution_count": 22,
     "metadata": {},
     "output_type": "execute_result"
    }
   ],
   "source": [
    "w_g"
   ]
  },
  {
   "cell_type": "code",
   "execution_count": 23,
   "metadata": {
    "scrolled": true
   },
   "outputs": [
    {
     "data": {
      "text/plain": [
       "array([[ 0.86367088,  0.17883809, -0.04250897],\n",
       "       [ 0.41420925,  0.7100508 , -0.12426006],\n",
       "       [-0.        ,  1.        ,  0.        ],\n",
       "       [-0.12426006,  0.7100508 ,  0.41420925],\n",
       "       [-0.04250897,  0.17883809,  0.86367088]])"
      ]
     },
     "execution_count": 23,
     "metadata": {},
     "output_type": "execute_result"
    }
   ],
   "source": [
    "phi"
   ]
  },
  {
   "cell_type": "markdown",
   "metadata": {},
   "source": [
    "The first column of phi represents the the blue curve (below) evaluated at the Gaussian nodes; the second column, the orange curve; and the third column, the green curve."
   ]
  },
  {
   "cell_type": "markdown",
   "metadata": {},
   "source": [
    "![Quadratic Nodes and Elements](./quadratic_elements1.png)"
   ]
  },
  {
   "cell_type": "code",
   "execution_count": 24,
   "metadata": {},
   "outputs": [
    {
     "data": {
      "text/plain": [
       "array([[-7.03089923,  9.06179846, -2.03089923],\n",
       "       [-5.19234655,  5.3846931 , -0.19234655],\n",
       "       [-2.5       , -0.        ,  2.5       ],\n",
       "       [ 0.19234655, -5.3846931 ,  5.19234655],\n",
       "       [ 2.03089923, -9.06179846,  7.03089923]])"
      ]
     },
     "execution_count": 24,
     "metadata": {},
     "output_type": "execute_result"
    }
   ],
   "source": [
    "p_x"
   ]
  },
  {
   "cell_type": "markdown",
   "metadata": {},
   "source": [
    "The first column of p_x is the derivative of the blue quadratic curve above evaluated at the Gaussian nodes; the second column, the orange curve; the third column, the green curve"
   ]
  },
  {
   "cell_type": "code",
   "execution_count": 25,
   "metadata": {
    "scrolled": true
   },
   "outputs": [
    {
     "data": {
      "text/plain": [
       "array([[ 25., -50.,  25.],\n",
       "       [ 25., -50.,  25.],\n",
       "       [ 25., -50.,  25.],\n",
       "       [ 25., -50.,  25.],\n",
       "       [ 25., -50.,  25.]])"
      ]
     },
     "execution_count": 25,
     "metadata": {},
     "output_type": "execute_result"
    }
   ],
   "source": [
    "p_xx"
   ]
  },
  {
   "cell_type": "markdown",
   "metadata": {},
   "source": [
    "The first column of p_xx is the derivative of the blue quadratic curve above evaluated at the Gaussian nodes; the second column, the orange curve; the third column, the green curve.  \n",
    "Clearly, we can see p_xx is constant for each of the curves since they are quadratics."
   ]
  },
  {
   "cell_type": "markdown",
   "metadata": {},
   "source": [
    "### oned_linear"
   ]
  },
  {
   "cell_type": "markdown",
   "metadata": {},
   "source": [
    "oned_linear computes approximation of the integral \n",
    "$\n",
    "\\int_{\\Omega} f(x)\\phi_i(x) dx\n",
    "$\n",
    "for each $i$, using Gaussian quadrature rule.  \n",
    "kernel = f(x_g) where x_g is a vector of Gaussian nodes on the physical element  \n",
    "w_g = Gaussian weights on the physical element  \n",
    "test = matrix of size # of gaussian nodes by n_dof representing basis function an element"
   ]
  },
  {
   "cell_type": "code",
   "execution_count": 26,
   "metadata": {},
   "outputs": [],
   "source": [
    "    \n",
    "def oned_linear(kernel, test, w_g):\n",
    "    \"\"\"\n",
    "    Compute the one-dimensional local linear form (f,phi)\n",
    "    \n",
    "    Inputs:\n",
    "    \n",
    "        kernel: double (n_gauss,) kernel evaluated at the Gauss nodes.\n",
    "        \n",
    "        test: double, (n_gauss, n_dofs) array of element test functions\n",
    "            evaluated at the Gauss nodes.\n",
    "            \n",
    "        w_g: double, (n_gauss,) Gauss quadrature weights on element.     \n",
    "        \n",
    "        \n",
    "    Output:\n",
    "    \n",
    "        L: double, (n_dofs,) vector with entries \n",
    "        \n",
    "            L_i = int_Ke f(x) phi_i(x) dx ~= sum_j w_g(j) f(x_j) phi_i(x_j) \n",
    "    \"\"\"\n",
    "    b = np.dot(test.T, kernel*w_g)\n",
    "    return b\n",
    "    "
   ]
  },
  {
   "cell_type": "markdown",
   "metadata": {},
   "source": [
    "Since oned_linear loops over the total number of elements, we call the function over the last element for illustration. We will take $f(x) = x^2$ for simplicity."
   ]
  },
  {
   "cell_type": "code",
   "execution_count": 27,
   "metadata": {},
   "outputs": [],
   "source": [
    "f = lambda x: x**2\n",
    "f_g = f(x_g)"
   ]
  },
  {
   "cell_type": "code",
   "execution_count": 28,
   "metadata": {},
   "outputs": [
    {
     "data": {
      "text/plain": [
       "array([0.02293333, 0.1728    , 0.0656    ])"
      ]
     },
     "execution_count": 28,
     "metadata": {},
     "output_type": "execute_result"
    }
   ],
   "source": [
    "oned_linear(f_g,phi,w_g)"
   ]
  },
  {
   "cell_type": "markdown",
   "metadata": {},
   "source": [
    "These entries correspond to the integral \n",
    "$\n",
    "\\int_{\\Omega} f(x)\\phi_i(x) dx\n",
    "$\n",
    "when $\\phi_i$ is blue, orange, and green respectively as shown."
   ]
  },
  {
   "cell_type": "markdown",
   "metadata": {},
   "source": [
    "![Quadratic Nodes and Elements](./quadratic_elements1.png)"
   ]
  },
  {
   "cell_type": "markdown",
   "metadata": {},
   "source": [
    "### oned_bilinear"
   ]
  },
  {
   "cell_type": "markdown",
   "metadata": {},
   "source": [
    "oned_bilinear computes approximation of the integral \n",
    "$\n",
    "\\int_{\\Omega} q(x)\\phi_j'(x) \\phi_i'(x) dx\n",
    "$\n",
    "for each $i,j$, using Gaussian quadrature rule. Just like the previous functions, oned_bilinear computation is done over an element and then a loop is performed over all possible elements. In the code:"
   ]
  },
  {
   "cell_type": "markdown",
   "metadata": {},
   "source": [
    "kernel = a vector of $q(x)$ evaluated at the Gauss nodes    \n",
    "phi = matrix whose columns represent $\\phi_j'(x)$ evaluated at the Gauss nodes. For linear shape/hat/basis functions, the matrix has 2 columns; for quadratic, 3 columns; etc.  \n",
    "test = matrix whose columns represent $\\phi_i'(x)$ evaluated at the Gauss nodes. For linear shape/hat/basis functions, the matrix has 2 columns; for quadratic, 3 columns; etc.  \n",
    "w_g = Gauss weights"
   ]
  },
  {
   "cell_type": "markdown",
   "metadata": {},
   "source": [
    "For the sake of illustration, we take $q(x) = x$ and retain w_g, phi above. Furthermore, we take test = phi (Galerkin method)."
   ]
  },
  {
   "cell_type": "code",
   "execution_count": 29,
   "metadata": {},
   "outputs": [],
   "source": [
    "q = lambda x: x"
   ]
  },
  {
   "cell_type": "code",
   "execution_count": 30,
   "metadata": {},
   "outputs": [
    {
     "data": {
      "text/plain": [
       "array([0.61876403, 0.69230614, 0.8       , 0.90769386, 0.98123597])"
      ]
     },
     "execution_count": 30,
     "metadata": {},
     "output_type": "execute_result"
    }
   ],
   "source": [
    "q(x_g)"
   ]
  },
  {
   "cell_type": "code",
   "execution_count": 31,
   "metadata": {},
   "outputs": [],
   "source": [
    "def oned_bilinear(kernel,phi,test,w_g):\n",
    "    \"\"\"\n",
    "    Compute the local bilinear form (kernel, phi, test)     \n",
    "    \n",
    "    \n",
    "    Inputs:\n",
    "    \n",
    "        kernel: double (n_gauss,), kernel function in the integral evaluated at the\n",
    "            Gauss points.\n",
    "    \n",
    "    \n",
    "        phi: double, (n_gauss,n_dofs) matrix of trial functions evaluated at \n",
    "            Gauss points. \n",
    "            \n",
    "            \n",
    "        test: double, (n_gauss,n_dofs) matrix of test functions evaluated at \n",
    "            Gauss points. \n",
    "            \n",
    "        w_g: double, (n_gauss,) Gauss quadrature weights.\n",
    "        \n",
    "        \n",
    "    Output:\n",
    "    \n",
    "        B: double, (n_dofs, n_dofs) local blinear form over element Ke with entries\n",
    "        \n",
    "            B_ij = int_Ke f(x) phi_j(x) test_i(x) dx \n",
    "                 \n",
    "                 ~= sum_{k} w_g(k) f(x_k) phi_j(x_k) test_i(x_k) \n",
    "        \n",
    "    \"\"\"\n",
    "    M = np.dot(np.dot(test.T,np.diag(kernel*w_g)),phi)\n",
    "    return M\n",
    "    \n",
    "    \n",
    "\n",
    "    "
   ]
  },
  {
   "cell_type": "code",
   "execution_count": 32,
   "metadata": {},
   "outputs": [],
   "source": [
    "A_loc = oned_bilinear(q(x_g),p_x,p_x,w_g)"
   ]
  },
  {
   "cell_type": "code",
   "execution_count": 33,
   "metadata": {},
   "outputs": [
    {
     "data": {
      "text/plain": [
       "array([[ 4.        , -4.66666667,  0.66666667],\n",
       "       [-4.66666667, 10.66666667, -6.        ],\n",
       "       [ 0.66666667, -6.        ,  5.33333333]])"
      ]
     },
     "execution_count": 33,
     "metadata": {},
     "output_type": "execute_result"
    }
   ],
   "source": [
    "A_loc"
   ]
  },
  {
   "cell_type": "markdown",
   "metadata": {},
   "source": [
    "The output of oned_bilinear, A_loc is the local assembly of the stiffness matrix, A over the specific element."
   ]
  },
  {
   "cell_type": "markdown",
   "metadata": {},
   "source": [
    "![Quadratic Nodes and Elements](./quadratic_elements1.png)\n",
    "\n",
    "Since we ran the code on the last element which is indexed by:"
   ]
  },
  {
   "cell_type": "code",
   "execution_count": 34,
   "metadata": {},
   "outputs": [
    {
     "data": {
      "text/plain": [
       "array([ 8,  9, 10])"
      ]
     },
     "execution_count": 34,
     "metadata": {},
     "output_type": "execute_result"
    }
   ],
   "source": [
    "e_conn[-1]"
   ]
  },
  {
   "cell_type": "markdown",
   "metadata": {},
   "source": [
    "it follows that index $8$ represents the blue parabola; index $9$, the orange parabola; and index $10$, the green parabola. Thus \n",
    "\n",
    "A_loc$_{8,8} = \\int_{\\Omega} q(x)\\phi_8'(x) \\phi_8'(x) dx = 4$  \n",
    "A_loc$_{8,9} = \\int_{\\Omega} q(x)\\phi_8'(x) \\phi_9'(x) dx = -4.66666667$  \n",
    "A_loc$_{8,10} = \\int_{\\Omega} q(x)\\phi_8'(x) \\phi_{10}'(x) dx = 0.66666667$  \n",
    "A_loc$_{9,8} = \\int_{\\Omega} q(x)\\phi_9'(x) \\phi_8'(x) dx = -4.66666667$  \n",
    "A_loc$_{9,9} = \\int_{\\Omega} q(x)\\phi_9'(x) \\phi_9'(x) dx = 10.66666667$  \n",
    "A_loc$_{9,10} = \\int_{\\Omega} q(x)\\phi_9'(x) \\phi_{10}'(x) dx = -6$  \n",
    "A_loc$_{10,8} = \\int_{\\Omega} q(x)\\phi_{10}'(x) \\phi_8'(x) dx = 0.66666667$  \n",
    "A_loc$_{10,9} = \\int_{\\Omega} q(x)\\phi_{10}'(x) \\phi_9'(x) dx = -6$  \n",
    "A_loc$_{10,10} = \\int_{\\Omega} q(x)\\phi_{10}'(x) \\phi_{10}'(x) dx = 5.33333333$  "
   ]
  },
  {
   "cell_type": "markdown",
   "metadata": {},
   "source": [
    "### Coupling the functions to solve specific problems"
   ]
  },
  {
   "cell_type": "code",
   "execution_count": 35,
   "metadata": {},
   "outputs": [],
   "source": [
    "# Exact solution\n",
    "ue = lambda x: x**2  + x"
   ]
  },
  {
   "cell_type": "code",
   "execution_count": 36,
   "metadata": {},
   "outputs": [],
   "source": [
    "# Diffusion coefficient\n",
    "q = lambda x: 1 + 0.5*x"
   ]
  },
  {
   "cell_type": "code",
   "execution_count": 37,
   "metadata": {},
   "outputs": [],
   "source": [
    "# Forcing term\n",
    "f = lambda x: -(2.5 + 2*x)"
   ]
  },
  {
   "cell_type": "code",
   "execution_count": 38,
   "metadata": {},
   "outputs": [],
   "source": [
    "# Interval end points\n",
    "a = -1\n",
    "b = 1"
   ]
  },
  {
   "cell_type": "code",
   "execution_count": 39,
   "metadata": {},
   "outputs": [],
   "source": [
    "import numpy as np\n",
    "import scipy\n",
    "from scipy.sparse import linalg\n",
    "import matplotlib.pyplot as plt\n",
    "\n",
    "# Generate the computational mesh\n",
    "n_elements = 10      # specify number of elements\n",
    "\n",
    "# Compute nodes and connectivity matrix\n",
    "x, e_conn = oned_mesh(a,b,n_elements,'linear')\n",
    "\n",
    "n_nodes = len(x)            # number of nodes\n",
    "n_dofs = len(e_conn[1,:])   # degrees of freedom per element\n",
    "\n",
    "# Index to keep track of equation numbers\n",
    "ide = np.zeros(n_nodes, dtype=int)  # initialize\n",
    "\n",
    "# Mark Dirichlet nodes by -1\n",
    "i_dir = [0,n_nodes-1]  # indices of dirichlet nodes\n",
    "ide[i_dir] = -1        # dirichlet nodes are marked by -1\n",
    "\n",
    "# Number remaining nodes from 0 to n_equations-1\n",
    "count = 0\n",
    "for i in range(n_nodes):\n",
    "    if ide[i] == 0:\n",
    "        ide[i] = count\n",
    "        count = count + 1\n",
    "\n",
    "n_equations = count   # total number of equations\n",
    "\n",
    "\n",
    "# Initialize sparse stiffness matrix\n",
    "nnz = n_elements*n_dofs**2        # estimate the number of non-zero elements\n",
    "\n",
    "rows = np.zeros(nnz, dtype=int)   # row index\n",
    "cols = np.zeros(nnz, dtype=int)   # column index\n",
    "vals = np.zeros(nnz)              # matrix entries\n",
    "\n",
    "# Initialize the RHS\n",
    "c = np.zeros(n_equations)\n",
    "\n",
    "# Assembly\n",
    "r,w = oned_gauss(11) # Gauss rule accurate to degree (2n-1), n is the input of oned_gauss\n",
    "count = 0\n",
    "for i in range(n_elements):\n",
    "    # local information\n",
    "    i_loc = e_conn[i,:] # local node indices\n",
    "    x_loc = x[i_loc]    # local nodes\n",
    "    \n",
    "    #compute shape function on element\n",
    "    x_g,w_g,phi,phi_x,phi_xx = oned_shape(x_loc,r,w)\n",
    "    \n",
    "    # compute local stiffnes matrix\n",
    "    q_g = q(x_g)\n",
    "    A_loc = oned_bilinear(q_g,phi_x,phi_x,w_g)\n",
    "    \n",
    "    # local RHS\n",
    "    f_g = f(x_g)\n",
    "    c_loc = oned_linear(f_g,phi,w_g)\n",
    "    \n",
    "    # global\n",
    "    for j in range(n_dofs):\n",
    "        # for each row\n",
    "        j_test = i_loc[j]    # global node number\n",
    "        j_eqn = ide[j_test]  # equation number\n",
    "\n",
    "        \n",
    "        if j_eqn >= 0 :\n",
    "            #update RHS\n",
    "            c[j_eqn] = c[j_eqn] + c_loc[j]\n",
    "            \n",
    "            for m in range(n_dofs):\n",
    "                # for each column\n",
    "                i_trial = i_loc[m]    #global node number\n",
    "                i_col = ide[i_trial]  # equation number\n",
    "                \n",
    "                if i_col >= 0:\n",
    "                    # interio node: fill column\n",
    "                    rows[count] = j_eqn\n",
    "                    cols[count] = i_col\n",
    "                    vals[count] = A_loc[j,m]\n",
    "                    count = count + 1\n",
    "                else:\n",
    "                    # Dirichlet node: apply dirichlet condition\n",
    "                    u_dir = ue(x_loc[m])\n",
    "                    c[j_eqn] = c[j_eqn] - A_loc[j,m]*u_dir\n",
    "                    \n",
    "# Delete entries that weren't filled\n",
    "noz = len(rows) - (count + 1)    # read # of rows not affected by count\n",
    "rows = rows[:-noz]               # delete the last 'noz' entries\n",
    "cols = cols[:-noz]               # delete the last 'noz' entries\n",
    "vals = vals[:-noz]               # delete the last 'noz' entries\n",
    "\n",
    "# Assemble sparse stiffness matrix\n",
    "A = scipy.sparse.coo_matrix((vals,(rows,cols)), shape=(n_equations,n_equations)).tocsr()\n",
    "\n",
    "# Compute finite element solution\n",
    "ua = np.zeros(n_nodes)\n",
    "ua[i_dir] = ue(x[i_dir])           # apply prescribed values at Dirichlet nodes\n",
    "ua[ide >=0] = linalg.spsolve(A,c)  # solve the system at interior nodes"
   ]
  },
  {
   "cell_type": "code",
   "execution_count": 40,
   "metadata": {},
   "outputs": [
    {
     "data": {
      "image/png": "[encoded data removed]",
      "text/plain": [
       "<Figure size 1080x360 with 2 Axes>"
      ]
     },
     "metadata": {
      "needs_background": "light"
     },
     "output_type": "display_data"
    }
   ],
   "source": [
    "fig = plt.figure(figsize=(15,5))\n",
    "ax1 = fig.add_subplot(121)\n",
    "ax2 = fig.add_subplot(122)\n",
    "\n",
    "ax1.plot(x,ue(x),label='exact solution')\n",
    "ax1.plot(x,ua,'r o',label='numerical solution')\n",
    "ax1.legend(loc='upper left')\n",
    "ax1.set_xlim([-1,1])\n",
    "ax1.set_ylabel('u(x)')\n",
    "ax1.set_xlabel('x')\n",
    "\n",
    "ax2.plot(x,np.abs(ua-ue(x)),'r--')\n",
    "ax2.set_xlim([-1,1])\n",
    "ax2.set_ylabel('|ua(x)-ue(x)|')\n",
    "ax2.set_xlabel('x')\n",
    "ax2.set_title('Error')\n",
    "plt.show()"
   ]
  }
 ],
 "metadata": {
  "kernelspec": {
   "display_name": "Python 3",
   "language": "python",
   "name": "python3"
  },
  "language_info": {
   "codemirror_mode": {
    "name": "ipython",
    "version": 3
   },
   "file_extension": ".py",
   "mimetype": "text/x-python",
   "name": "python",
   "nbconvert_exporter": "python",
   "pygments_lexer": "ipython3",
   "version": "3.7.9"
  }
 },
 "nbformat": 4,
 "nbformat_minor": 4
}
